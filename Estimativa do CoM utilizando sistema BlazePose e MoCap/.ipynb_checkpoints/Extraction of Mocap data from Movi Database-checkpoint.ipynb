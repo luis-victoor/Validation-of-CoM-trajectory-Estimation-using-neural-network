{
 "cells": [
  {
   "cell_type": "markdown",
   "metadata": {},
   "source": [
    "# Utilizando dados de MoCap do banco de dados MoVi em Python"
   ]
  },
  {
   "cell_type": "markdown",
   "metadata": {},
   "source": [
    "--> O banco de dados MoVi é originalmente fornecido através da extensão .mat."
   ]
  },
  {
   "cell_type": "markdown",
   "metadata": {},
   "source": [
    "--> O banco fornece algumas funções de utilidades para tornar mais fácil a leitura dos arquivos MoVi no ambiente Python."
   ]
  },
  {
   "cell_type": "code",
   "execution_count": null,
   "metadata": {},
   "outputs": [
    {
     "name": "stdout",
     "output_type": "stream",
     "text": [
      "Requirement already satisfied: utils in c:\\users\\victo\\anaconda3\\lib\\site-packages (1.0.1)\n",
      "Collecting readmat\n",
      "  Using cached readmat-0.0.1-py3-none-any.whl (8.4 kB)\n",
      "Requirement already satisfied: scipy in c:\\users\\victo\\anaconda3\\lib\\site-packages (from readmat) (1.9.1)\n",
      "Requirement already satisfied: numpy in c:\\users\\victo\\anaconda3\\lib\\site-packages (from readmat) (1.21.5)\n",
      "Installing collected packages: readmat\n",
      "Successfully installed readmat-0.0.1\n"
     ]
    }
   ],
   "source": [
    "!pip install utils\n",
    "!pip install readmat\n",
    "from utils import *\n",
    "import readmat\n",
    "from scipy.io import loadmat\n",
    "%load_ext autoreload\n",
    "%autoreload 2\n",
    "%matplotlib inline"
   ]
  },
  {
   "cell_type": "markdown",
   "metadata": {},
   "source": [
    "--> Abaixo, insira o seu caminho da pasta Movi-Toolbox que contenha o vídeo do sujeito escolhido. Observe que neste caso, foi escolhido o sujeito 15. Escolha o vídeo que esteja com o nome nesse formato: \"F_v3d_Subject_XX.mat\""
   ]
  },
  {
   "cell_type": "markdown",
   "metadata": {},
   "source": [
    "--> Caso apareça algum erro na leitura do arquivo ao rodar a linha de código abaixo, acrescente a letra r antes das aspas simples, como mostrado abaixo."
   ]
  },
  {
   "cell_type": "code",
   "execution_count": 5,
   "metadata": {},
   "outputs": [],
   "source": [
    "# File location\n",
    "\n",
    "v3d_filename = r'C:\\Users\\victo\\OneDrive - unb.br\\Documentos\\Faculdade\\PIBIC\\Validation-of-CoM-trajectory-Estimation-using-neural-network\\Estimativa do CoM utilizando sistema BlazePose e MoCap\\F_v3d_Subject_15.mat' "
   ]
  },
  {
   "cell_type": "markdown",
   "metadata": {},
   "source": [
    "--> Abaixo, é apenas a leitura do arquivo MoVi, indicando as chaves que ele contém: id, sujeito e movimento."
   ]
  },
  {
   "cell_type": "code",
   "execution_count": 9,
   "metadata": {},
   "outputs": [
    {
     "data": {
      "text/plain": [
       "dict_keys(['__header__', '__version__', '__globals__', 'Subject_15_F'])"
      ]
     },
     "execution_count": 9,
     "metadata": {},
     "output_type": "execute_result"
    }
   ],
   "source": [
    "# Reading MoVi files as a Python dictionary\n",
    "sample = readmat.mat2dict(v3d_filename)\n",
    "sample.keys()"
   ]
  },
  {
   "cell_type": "markdown",
   "metadata": {},
   "source": [
    "--> Mostrando as chaves do dicionário que podem ser acessadas."
   ]
  },
  {
   "cell_type": "code",
   "execution_count": 10,
   "metadata": {
    "scrolled": false
   },
   "outputs": [],
   "source": [
    "# Printing the dictionary keys in a tree style\n",
    "#readmat.pretty_dict(sample, print_type=False, indent=1)\n",
    "x = sample[\"Subject_15_F\"]\n",
    "print(x)"
   ]
  },
  {
   "cell_type": "markdown",
   "metadata": {},
   "source": [
    "--> Printando a identificação do sujeito do vídeo escolhido"
   ]
  },
  {
   "cell_type": "code",
   "execution_count": 9,
   "metadata": {},
   "outputs": [
    {
     "ename": "KeyError",
     "evalue": "'id'",
     "output_type": "error",
     "traceback": [
      "\u001b[1;31m---------------------------------------------------------------------------\u001b[0m",
      "\u001b[1;31mKeyError\u001b[0m                                  Traceback (most recent call last)",
      "Cell \u001b[1;32mIn [9], line 1\u001b[0m\n\u001b[1;32m----> 1\u001b[0m \u001b[39mprint\u001b[39m(\u001b[39m'\u001b[39m\u001b[39mID: \u001b[39m\u001b[39m'\u001b[39m,sample[\u001b[39m'\u001b[39;49m\u001b[39mid\u001b[39;49m\u001b[39m'\u001b[39;49m])\n\u001b[0;32m      2\u001b[0m \u001b[39mprint\u001b[39m(sample[\u001b[39m'\u001b[39m\u001b[39msubject\u001b[39m\u001b[39m'\u001b[39m])\n",
      "\u001b[1;31mKeyError\u001b[0m: 'id'"
     ]
    }
   ],
   "source": [
    "print('ID: ',sample['id'])\n",
    "print(sample['subject'])"
   ]
  },
  {
   "cell_type": "markdown",
   "metadata": {},
   "source": [
    "--> Mostrando apenas as chaves de movimento"
   ]
  },
  {
   "cell_type": "code",
   "execution_count": 6,
   "metadata": {},
   "outputs": [
    {
     "name": "stdout",
     "output_type": "stream",
     "text": [
      "Key: description\n",
      "Key: markerName\n",
      "Key: markerType\n",
      "Key: markerDescription\n",
      "Key: markerSide\n",
      "Key: markerMatch\n",
      "Key: segmentName\n",
      "Key: segmentType\n",
      "Key: segmentDescription\n",
      "Key: segmentSide\n",
      "Key: segmentMatch\n",
      "Key: segmentParent\n",
      "Key: physicalMarkers\n",
      "Key: virtualMarkers\n",
      "Key: lcData\n",
      "Key: flags30\n",
      "Key: flags120\n",
      "Key: motions_list\n",
      "Key: markerGaps\n",
      "Key: virtualMarkerParent\n",
      "Key: markerLocation\n",
      "Key: virtualMarkerLocation\n",
      "Key: jointsAffine_v3d\n",
      "Key: jointsTranslation_v3d\n",
      "Key: jointsExpMaps_v3d\n",
      "Key: jointsGaps_v3d\n"
     ]
    }
   ],
   "source": [
    "# First move sample\n",
    "move = sample['move']\n",
    "readmat.pretty_dict(move)"
   ]
  },
  {
   "cell_type": "markdown",
   "metadata": {},
   "source": [
    "--> Convertendo as chaves do dicionário em um tipo tupla para que os atributos sejam acessíveis utilizando um ponto depois da função."
   ]
  },
  {
   "cell_type": "markdown",
   "metadata": {},
   "source": [
    "--> Aqui você pode escolher mostrar quais são os marcadores físicos, virtuais, a descrição de cada um deles e a lista de movimentos executados pelo indivíduo."
   ]
  },
  {
   "cell_type": "code",
   "execution_count": 7,
   "metadata": {},
   "outputs": [
    {
     "name": "stdout",
     "output_type": "stream",
     "text": [
      "['Back of Neck' 'Upper Back' 'Clavicle' 'Sternum' 'Umbilicus'\n",
      " 'Left Front Head' 'Left Back Head' 'Left Back' 'Left Shoulder'\n",
      " 'Left Upper Arm' 'Left Elbow' 'Left Forearm' 'Left Wrist Bar Thumb Side'\n",
      " 'Left Wrist Bar Pinkie Side' 'Left Finger' 'Left ASIS' 'Left PSIS'\n",
      " 'Left Front Thigh' 'Left Thigh' 'Left Knee' 'Left Ankle' 'Left Heel'\n",
      " 'Left 5th Metatarsal' 'Left Toe' 'Left Cheek' 'Left Breast'\n",
      " 'Left Inner Elbow' 'Left Waist' 'Left Thomb' 'Left Front Inner Thigh'\n",
      " 'Right Inner Knee' 'Left Shin' 'RLeft First Metatarsal' 'Left Forth Toe'\n",
      " 'Left Scapula' 'Left Bum' 'Right Front Head' 'Right Back Head'\n",
      " 'Right Back' 'Right Shoulder' 'Right Upper Arm' 'Right Elbow'\n",
      " 'Right Forearm' 'Right Wrist Bar Thumb Side'\n",
      " 'Right Wrist Bar Pinkie Side' 'Right Finger' 'Right ASIS' 'Right PSIS'\n",
      " 'Right Front Thigh' 'Right Thigh' 'Right Knee' 'Right Ankle' 'Right Heel'\n",
      " 'Right 5th Metatarsal' 'Right Toe' 'Right Cheek' 'Right Breast'\n",
      " 'Right Inner Elbow' 'Right Waist' 'Right Thomb'\n",
      " 'Right Front Inner Thigh Marker' 'Left Inner Knee' 'Right Shin'\n",
      " 'Right First Metatarsal' 'Right Forth Toe' 'Right Scapula' 'Right Bum'\n",
      " 'Head Center' 'Middle Hip Point' 'Pelvis Center' 'Thorax'\n",
      " 'Left Ankle Joint' 'Left Elbow Joint' 'Left Hip Joint' 'Left Hand Joint'\n",
      " 'Left Knee Joint' 'Left Shoulder Joint' 'Left Wrist Joint'\n",
      " 'Left Foot Joint' 'Right Ankle Joint' 'Right Elbow Joint'\n",
      " 'Right Hip Joint' 'Right Hand Joint' 'Right Knee Joint'\n",
      " 'Right Shoulder Joint' 'Right Wrist Joint' 'Right Foot Joint']\n",
      "[ 1  2  3  4  5  6  7  8  9 10 11 12 13 14 15 16 17 18 19 20 21 22 23 24\n",
      " 25 26 27 28 29 30 31 32 33 34 35 36 37 38 39 40 41 42 43 44 45 46 47 48\n",
      " 49 50 51 52 53 54 55 56 57 58 59 60 61 62 63 64 65 66 67]\n",
      "[68 69 70 71 72 73 74 75 76 77 78 79 80 81 82 83 84 85 86 87]\n",
      "['sitting_down' 'sideways' 'kicking' 'squatting_rm' 'vertical_jumping'\n",
      " 'running_in_spot' 'jumping_jack' 'crawling' 'pointing' 'taking_photo'\n",
      " 'cross_legged_sitting' 'phone_talking' 'scratching_head' 'jogging'\n",
      " 'throw/catch' 'walking' 'stretching' 'checking_watch' 'crossarms'\n",
      " 'hand_clapping' 'hand_waving']\n"
     ]
    }
   ],
   "source": [
    "# dict2ntuple function can be used to convert the dictionary to a namedtuple \n",
    "# so that the attributes are accessible by dotted notation\n",
    "move =dict2ntuple(move)\n",
    "print(move.markerDescription)\n",
    "print(move.physicalMarkers)\n",
    "print(move.virtualMarkers)\n",
    "print(move.motions_list)"
   ]
  },
  {
   "cell_type": "markdown",
   "metadata": {},
   "source": [
    "## Armazenar os dados de posição dos marcadores em cada frame do vídeo em um array"
   ]
  },
  {
   "cell_type": "markdown",
   "metadata": {},
   "source": [
    "--> Abaixo, temos os dados de TODOS os marcadores em TODOS os frames do vídeo escolhido."
   ]
  },
  {
   "cell_type": "markdown",
   "metadata": {},
   "source": [
    "--> Observe que são dados de milhares de frames e o notebook não mostra todos eles, mas coloca as reticências para evidenciar."
   ]
  },
  {
   "cell_type": "markdown",
   "metadata": {},
   "source": [
    "--> Observe também que são blocos de array dentro de um array principal, que representam os marcadores (array principal) e suas posições em cada frame (blocos de array internos)."
   ]
  },
  {
   "cell_type": "code",
   "execution_count": 8,
   "metadata": {},
   "outputs": [
    {
     "data": {
      "text/plain": [
       "array([[[ 336.98776245,   17.4847908 , 1559.65722656],\n",
       "        [ 307.49227905,   20.96870995, 1235.98718262],\n",
       "        [ 466.79177856,   24.70891571, 1497.18261719],\n",
       "        ...,\n",
       "        [ 356.89865112, -166.20855713, 1462.76721191],\n",
       "        [ 487.96240234, -695.30969238, 1474.58483887],\n",
       "        [ 535.75872803,  -89.18184662,   11.15608311]],\n",
       "\n",
       "       [[ 336.91867065,   17.47442055, 1559.62512207],\n",
       "        [ 307.44500732,   20.97799873, 1236.01245117],\n",
       "        [ 466.72747803,   24.72114944, 1497.20153809],\n",
       "        ...,\n",
       "        [ 356.89349365, -166.20951843, 1462.75097656],\n",
       "        [ 488.02035522, -695.31994629, 1474.49694824],\n",
       "        [ 535.76281738,  -89.28752136,   11.33196163]],\n",
       "\n",
       "       [[ 336.85165405,   17.46774292, 1559.61340332],\n",
       "        [ 307.38452148,   20.97657204, 1236.02563477],\n",
       "        [ 466.66177368,   24.71905136, 1497.2244873 ],\n",
       "        ...,\n",
       "        [ 356.87591553, -166.23568726, 1462.76635742],\n",
       "        [ 488.07287598, -695.32769775, 1474.41381836],\n",
       "        [ 535.77148438,  -89.28872681,   11.34207153]],\n",
       "\n",
       "       ...,\n",
       "\n",
       "       [[ 249.93983459,   39.77682495, 1558.72497559],\n",
       "        [ 218.27735901,   54.44635391, 1231.61975098],\n",
       "        [ 378.6506958 ,   42.31341171, 1481.25195312],\n",
       "        ...,\n",
       "        [ 306.41937256, -178.26251221, 1372.22790527],\n",
       "        [ 431.79516602, -148.35076904,  880.42681885],\n",
       "        [ 445.30834961,  -79.08763885,   10.83769035]],\n",
       "\n",
       "       [[ 249.9052887 ,   39.73885345, 1558.7355957 ],\n",
       "        [ 218.3188324 ,   54.4423027 , 1231.60705566],\n",
       "        [ 378.47363281,   42.16498184, 1481.10180664],\n",
       "        ...,\n",
       "        [ 306.47363281, -178.2865448 , 1372.25891113],\n",
       "        [ 431.89471436, -148.28422546,  880.45904541],\n",
       "        [ 445.29592896,  -79.09062195,   10.8435564 ]],\n",
       "\n",
       "       [[ 249.86930847,   39.67763138, 1558.73657227],\n",
       "        [ 218.33610535,   54.38670731, 1231.58044434],\n",
       "        [ 378.48937988,   42.14324951, 1481.15576172],\n",
       "        ...,\n",
       "        [ 306.52597046, -178.33778381, 1372.29199219],\n",
       "        [ 432.01174927, -148.23660278,  880.5189209 ],\n",
       "        [ 445.32391357,  -79.07792664,   10.86656189]]])"
      ]
     },
     "execution_count": 8,
     "metadata": {},
     "output_type": "execute_result"
    }
   ],
   "source": [
    "move.markerLocation"
   ]
  },
  {
   "cell_type": "markdown",
   "metadata": {},
   "source": [
    "--> O trecho de código abaixo printa apenas a primeira e terceira colunas, que são os dados de posição (dados em milímetros) dos eixos horizontal e vertical, respectivamente."
   ]
  },
  {
   "cell_type": "code",
   "execution_count": 9,
   "metadata": {},
   "outputs": [
    {
     "name": "stdout",
     "output_type": "stream",
     "text": [
      "[[[  17.4847908  1559.65722656]\n",
      "  [  20.96870995 1235.98718262]\n",
      "  [  24.70891571 1497.18261719]\n",
      "  ...\n",
      "  [-166.20855713 1462.76721191]\n",
      "  [-695.30969238 1474.58483887]\n",
      "  [ -89.18184662   11.15608311]]\n",
      "\n",
      " [[  17.47442055 1559.62512207]\n",
      "  [  20.97799873 1236.01245117]\n",
      "  [  24.72114944 1497.20153809]\n",
      "  ...\n",
      "  [-166.20951843 1462.75097656]\n",
      "  [-695.31994629 1474.49694824]\n",
      "  [ -89.28752136   11.33196163]]\n",
      "\n",
      " [[  17.46774292 1559.61340332]\n",
      "  [  20.97657204 1236.02563477]\n",
      "  [  24.71905136 1497.2244873 ]\n",
      "  ...\n",
      "  [-166.23568726 1462.76635742]\n",
      "  [-695.32769775 1474.41381836]\n",
      "  [ -89.28872681   11.34207153]]\n",
      "\n",
      " ...\n",
      "\n",
      " [[  39.77682495 1558.72497559]\n",
      "  [  54.44635391 1231.61975098]\n",
      "  [  42.31341171 1481.25195312]\n",
      "  ...\n",
      "  [-178.26251221 1372.22790527]\n",
      "  [-148.35076904  880.42681885]\n",
      "  [ -79.08763885   10.83769035]]\n",
      "\n",
      " [[  39.73885345 1558.7355957 ]\n",
      "  [  54.4423027  1231.60705566]\n",
      "  [  42.16498184 1481.10180664]\n",
      "  ...\n",
      "  [-178.2865448  1372.25891113]\n",
      "  [-148.28422546  880.45904541]\n",
      "  [ -79.09062195   10.8435564 ]]\n",
      "\n",
      " [[  39.67763138 1558.73657227]\n",
      "  [  54.38670731 1231.58044434]\n",
      "  [  42.14324951 1481.15576172]\n",
      "  ...\n",
      "  [-178.33778381 1372.29199219]\n",
      "  [-148.23660278  880.5189209 ]\n",
      "  [ -79.07792664   10.86656189]]]\n"
     ]
    }
   ],
   "source": [
    "markerLocation_output = np.delete(move.markerLocation, np.s_[0:1], axis=2)\n",
    "print(markerLocation_output)"
   ]
  },
  {
   "cell_type": "markdown",
   "metadata": {},
   "source": [
    "--> Salve seus dados em um arquivo que você pode nomear como quiser, neste caso o nome é 'Sensor data'"
   ]
  },
  {
   "cell_type": "code",
   "execution_count": 10,
   "metadata": {},
   "outputs": [],
   "source": [
    "np.save('Sensor data', markerLocation_output)"
   ]
  },
  {
   "cell_type": "markdown",
   "metadata": {},
   "source": [
    "--> Abaixo, rode o código para mostrar o tamanho do seu array"
   ]
  },
  {
   "cell_type": "code",
   "execution_count": 11,
   "metadata": {},
   "outputs": [
    {
     "data": {
      "text/plain": [
       "(17846, 87, 2)"
      ]
     },
     "execution_count": 11,
     "metadata": {},
     "output_type": "execute_result"
    }
   ],
   "source": [
    "d3_array = markerLocation_output\n",
    "size = len(d3_array)\n",
    "d3_array.shape"
   ]
  }
 ],
 "metadata": {
  "kernelspec": {
   "display_name": "Python 3 (ipykernel)",
   "language": "python",
   "name": "python3"
  },
  "language_info": {
   "codemirror_mode": {
    "name": "ipython",
    "version": 3
   },
   "file_extension": ".py",
   "mimetype": "text/x-python",
   "name": "python",
   "nbconvert_exporter": "python",
   "pygments_lexer": "ipython3",
   "version": "3.9.13"
  },
  "vscode": {
   "interpreter": {
    "hash": "253cd15c32ffb283b0558be93b097dc27093fe6b891853f454fa08d2f15e4a97"
   }
  }
 },
 "nbformat": 4,
 "nbformat_minor": 2
}
