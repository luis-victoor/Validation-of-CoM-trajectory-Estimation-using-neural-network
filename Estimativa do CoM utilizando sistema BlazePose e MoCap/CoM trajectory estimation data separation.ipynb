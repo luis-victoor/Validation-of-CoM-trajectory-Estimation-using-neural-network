{
 "cells": [
  {
   "cell_type": "markdown",
   "metadata": {},
   "source": [
    "# Algoritmo para separar os dados do movimento desejado, utilizando os dados do vídeo com os dados de MoCap que foram sincronizados"
   ]
  },
  {
   "cell_type": "markdown",
   "metadata": {},
   "source": [
    "--> Bibliotecas necessárias para esta etapa"
   ]
  },
  {
   "cell_type": "code",
   "execution_count": 3,
   "metadata": {},
   "outputs": [],
   "source": [
    "import numpy as np\n",
    "import cv2\n",
    "import pandas as pd\n",
    "import readmat\n",
    "from sources_cv2 import defineStartEnd, count_frames\n",
    "\n",
    "from utils import *\n",
    "%load_ext autoreload\n",
    "%autoreload 2\n",
    "%matplotlib inline"
   ]
  },
  {
   "cell_type": "markdown",
   "metadata": {},
   "source": [
    "# Escolha do voluntário"
   ]
  },
  {
   "cell_type": "code",
   "execution_count": 4,
   "metadata": {},
   "outputs": [],
   "source": [
    "# File location\n",
    "\n",
    "v3d_filename = r'C:\\Users\\victo\\OneDrive - unb.br\\Documentos\\Faculdade\\PIBIC\\Validation-of-CoM-trajectory-Estimation-using-neural-network\\Estimativa do CoM utilizando sistema BlazePose e MoCap\\F_v3d_Subject_15.mat' "
   ]
  },
  {
   "cell_type": "markdown",
   "metadata": {},
   "source": [
    "# Escolher a chave"
   ]
  },
  {
   "cell_type": "code",
   "execution_count": 5,
   "metadata": {},
   "outputs": [
    {
     "data": {
      "text/plain": [
       "dict_keys(['__header__', '__version__', '__globals__', 'Subject_15_F'])"
      ]
     },
     "execution_count": 5,
     "metadata": {},
     "output_type": "execute_result"
    }
   ],
   "source": [
    "# Reading MoVi files as a Python dictionary\n",
    "sample = readmat.mat2dict(v3d_filename)\n",
    "sample.keys()"
   ]
  },
  {
   "cell_type": "code",
   "execution_count": 8,
   "metadata": {},
   "outputs": [
    {
     "data": {
      "text/plain": [
       "dict_keys(['description', 'markerName', 'markerType', 'markerDescription', 'markerSide', 'markerMatch', 'segmentName', 'segmentType', 'segmentDescription', 'segmentSide', 'segmentMatch', 'segmentParent', 'physicalMarkers', 'virtualMarkers', 'lcData', 'flags30', 'flags120', 'motions_list', 'markerGaps', 'virtualMarkerParent', 'markerLocation', 'virtualMarkerLocation', 'jointsAffine_v3d', 'jointsTranslation_v3d', 'jointsExpMaps_v3d', 'jointsGaps_v3d'])"
      ]
     },
     "execution_count": 8,
     "metadata": {},
     "output_type": "execute_result"
    }
   ],
   "source": [
    "# First move sample\n",
    "x = sample['Subject_15_F']\n",
    "move = x['move']\n",
    "move.keys()"
   ]
  },
  {
   "cell_type": "markdown",
   "metadata": {},
   "source": [
    "--> Carregue os dados do código anterior que calcula o centro de massa do corpo todo para todos os frames."
   ]
  },
  {
   "cell_type": "code",
   "execution_count": 9,
   "metadata": {},
   "outputs": [],
   "source": [
    "array = np.load('Whole body CoM data.npy')"
   ]
  },
  {
   "cell_type": "markdown",
   "metadata": {},
   "source": [
    "--> Criar o dataframe"
   ]
  },
  {
   "cell_type": "code",
   "execution_count": 10,
   "metadata": {},
   "outputs": [
    {
     "data": {
      "text/html": [
       "<div>\n",
       "<style scoped>\n",
       "    .dataframe tbody tr th:only-of-type {\n",
       "        vertical-align: middle;\n",
       "    }\n",
       "\n",
       "    .dataframe tbody tr th {\n",
       "        vertical-align: top;\n",
       "    }\n",
       "\n",
       "    .dataframe thead th {\n",
       "        text-align: right;\n",
       "    }\n",
       "</style>\n",
       "<table border=\"1\" class=\"dataframe\">\n",
       "  <thead>\n",
       "    <tr style=\"text-align: right;\">\n",
       "      <th></th>\n",
       "      <th>X</th>\n",
       "      <th>Y</th>\n",
       "    </tr>\n",
       "  </thead>\n",
       "  <tbody>\n",
       "    <tr>\n",
       "      <th>0</th>\n",
       "      <td>18.929139</td>\n",
       "      <td>986.508717</td>\n",
       "    </tr>\n",
       "    <tr>\n",
       "      <th>1</th>\n",
       "      <td>18.938636</td>\n",
       "      <td>986.511618</td>\n",
       "    </tr>\n",
       "    <tr>\n",
       "      <th>2</th>\n",
       "      <td>18.950765</td>\n",
       "      <td>986.516038</td>\n",
       "    </tr>\n",
       "    <tr>\n",
       "      <th>3</th>\n",
       "      <td>19.017671</td>\n",
       "      <td>986.494681</td>\n",
       "    </tr>\n",
       "    <tr>\n",
       "      <th>4</th>\n",
       "      <td>19.000997</td>\n",
       "      <td>986.499087</td>\n",
       "    </tr>\n",
       "    <tr>\n",
       "      <th>...</th>\n",
       "      <td>...</td>\n",
       "      <td>...</td>\n",
       "    </tr>\n",
       "    <tr>\n",
       "      <th>17841</th>\n",
       "      <td>46.894255</td>\n",
       "      <td>939.087568</td>\n",
       "    </tr>\n",
       "    <tr>\n",
       "      <th>17842</th>\n",
       "      <td>46.896500</td>\n",
       "      <td>939.094325</td>\n",
       "    </tr>\n",
       "    <tr>\n",
       "      <th>17843</th>\n",
       "      <td>46.874120</td>\n",
       "      <td>939.095647</td>\n",
       "    </tr>\n",
       "    <tr>\n",
       "      <th>17844</th>\n",
       "      <td>46.877768</td>\n",
       "      <td>939.117538</td>\n",
       "    </tr>\n",
       "    <tr>\n",
       "      <th>17845</th>\n",
       "      <td>46.879394</td>\n",
       "      <td>939.137895</td>\n",
       "    </tr>\n",
       "  </tbody>\n",
       "</table>\n",
       "<p>17846 rows × 2 columns</p>\n",
       "</div>"
      ],
      "text/plain": [
       "               X           Y\n",
       "0      18.929139  986.508717\n",
       "1      18.938636  986.511618\n",
       "2      18.950765  986.516038\n",
       "3      19.017671  986.494681\n",
       "4      19.000997  986.499087\n",
       "...          ...         ...\n",
       "17841  46.894255  939.087568\n",
       "17842  46.896500  939.094325\n",
       "17843  46.874120  939.095647\n",
       "17844  46.877768  939.117538\n",
       "17845  46.879394  939.137895\n",
       "\n",
       "[17846 rows x 2 columns]"
      ]
     },
     "execution_count": 10,
     "metadata": {},
     "output_type": "execute_result"
    }
   ],
   "source": [
    "Data = array\n",
    "name_description = move['motions_list']\n",
    "data_complete = pd.DataFrame(Data,\n",
    "                           columns = ['X', 'Y'])\n",
    "data_complete"
   ]
  },
  {
   "cell_type": "markdown",
   "metadata": {},
   "source": [
    "# Separando apenas os dados do movimento de caminhar de um lado ao outro"
   ]
  },
  {
   "cell_type": "code",
   "execution_count": 11,
   "metadata": {},
   "outputs": [],
   "source": [
    "video_path = r'C:\\Users\\victo\\OneDrive - unb.br\\Documentos\\Faculdade\\PIBIC\\Validation-of-CoM-trajectory-Estimation-using-neural-network\\Estimativa do CoM utilizando sistema BlazePose e MoCap\\F_PG1_Subject_15_L.avi'"
   ]
  },
  {
   "cell_type": "code",
   "execution_count": 12,
   "metadata": {},
   "outputs": [],
   "source": [
    "# Frequencia dos dados\n",
    "\n",
    "video = cv2.VideoCapture(video_path)\n",
    "fps = video.get(cv2.CAP_PROP_FPS)\n",
    "n_frames = int(video.get(cv2.CAP_PROP_FRAME_COUNT))\n",
    "\n",
    "freq_MoCap = 120"
   ]
  },
  {
   "cell_type": "markdown",
   "metadata": {},
   "source": [
    "# Escolher o tempo de início aproximado para o movimento de andar de um lado ao outro"
   ]
  },
  {
   "cell_type": "markdown",
   "metadata": {},
   "source": [
    "--> Estabeleça o minuto e segundos exatos do início do trecho do vídeo que você busca."
   ]
  },
  {
   "cell_type": "code",
   "execution_count": 13,
   "metadata": {},
   "outputs": [],
   "source": [
    "# alterar o minuto do vídeo para o movimento\n",
    "min_init_video = 1\n",
    "# alterar o segundo do vídeo para o movimento \n",
    "seg_init_video = 55\n",
    "\n",
    "aprox_init_video = int(((min_init_video * 60) + seg_init_video) * fps)"
   ]
  },
  {
   "cell_type": "markdown",
   "metadata": {},
   "source": [
    "--> Estabeleça manualmente o trecho do vídeo que deseja coletar. Aperte a tecla D repetidas vezes para os frames do vídeo irem para frente e A para recuarem. "
   ]
  },
  {
   "cell_type": "markdown",
   "metadata": {},
   "source": [
    "--> Após chegar no frame de início que você deseja, aperte Enter e após chegar no frame final, aperte Enter novamente."
   ]
  },
  {
   "cell_type": "code",
   "execution_count": 14,
   "metadata": {},
   "outputs": [
    {
     "name": "stdout",
     "output_type": "stream",
     "text": [
      "[3466, 0]\n",
      "[3466, 3502]\n"
     ]
    }
   ],
   "source": [
    "start_end = defineStartEnd(video_path, n_frames, aprox_init_video)\n",
    "#start_end = [0, 3504]"
   ]
  },
  {
   "cell_type": "markdown",
   "metadata": {},
   "source": [
    "--> Rode o bloco de código seguinte para converter para a frequência de dados do sistema mocap (120 Hz) e cria o arquivo com esses dados separados."
   ]
  },
  {
   "cell_type": "code",
   "execution_count": 15,
   "metadata": {},
   "outputs": [
    {
     "data": {
      "text/html": [
       "<div>\n",
       "<style scoped>\n",
       "    .dataframe tbody tr th:only-of-type {\n",
       "        vertical-align: middle;\n",
       "    }\n",
       "\n",
       "    .dataframe tbody tr th {\n",
       "        vertical-align: top;\n",
       "    }\n",
       "\n",
       "    .dataframe thead th {\n",
       "        text-align: right;\n",
       "    }\n",
       "</style>\n",
       "<table border=\"1\" class=\"dataframe\">\n",
       "  <thead>\n",
       "    <tr style=\"text-align: right;\">\n",
       "      <th></th>\n",
       "      <th>X</th>\n",
       "      <th>Y</th>\n",
       "    </tr>\n",
       "  </thead>\n",
       "  <tbody>\n",
       "    <tr>\n",
       "      <th>13864</th>\n",
       "      <td>977.471806</td>\n",
       "      <td>912.392612</td>\n",
       "    </tr>\n",
       "    <tr>\n",
       "      <th>13865</th>\n",
       "      <td>968.700176</td>\n",
       "      <td>911.827323</td>\n",
       "    </tr>\n",
       "    <tr>\n",
       "      <th>13866</th>\n",
       "      <td>959.899099</td>\n",
       "      <td>911.299103</td>\n",
       "    </tr>\n",
       "    <tr>\n",
       "      <th>13867</th>\n",
       "      <td>950.833143</td>\n",
       "      <td>911.069982</td>\n",
       "    </tr>\n",
       "    <tr>\n",
       "      <th>13868</th>\n",
       "      <td>941.732116</td>\n",
       "      <td>911.147434</td>\n",
       "    </tr>\n",
       "    <tr>\n",
       "      <th>...</th>\n",
       "      <td>...</td>\n",
       "      <td>...</td>\n",
       "    </tr>\n",
       "    <tr>\n",
       "      <th>14004</th>\n",
       "      <td>-312.190904</td>\n",
       "      <td>916.706809</td>\n",
       "    </tr>\n",
       "    <tr>\n",
       "      <th>14005</th>\n",
       "      <td>-321.059939</td>\n",
       "      <td>915.501908</td>\n",
       "    </tr>\n",
       "    <tr>\n",
       "      <th>14006</th>\n",
       "      <td>-330.022761</td>\n",
       "      <td>914.450112</td>\n",
       "    </tr>\n",
       "    <tr>\n",
       "      <th>14007</th>\n",
       "      <td>-339.194238</td>\n",
       "      <td>913.471518</td>\n",
       "    </tr>\n",
       "    <tr>\n",
       "      <th>14008</th>\n",
       "      <td>-348.380513</td>\n",
       "      <td>912.686839</td>\n",
       "    </tr>\n",
       "  </tbody>\n",
       "</table>\n",
       "<p>145 rows × 2 columns</p>\n",
       "</div>"
      ],
      "text/plain": [
       "                X           Y\n",
       "13864  977.471806  912.392612\n",
       "13865  968.700176  911.827323\n",
       "13866  959.899099  911.299103\n",
       "13867  950.833143  911.069982\n",
       "13868  941.732116  911.147434\n",
       "...           ...         ...\n",
       "14004 -312.190904  916.706809\n",
       "14005 -321.059939  915.501908\n",
       "14006 -330.022761  914.450112\n",
       "14007 -339.194238  913.471518\n",
       "14008 -348.380513  912.686839\n",
       "\n",
       "[145 rows x 2 columns]"
      ]
     },
     "execution_count": 15,
     "metadata": {},
     "output_type": "execute_result"
    }
   ],
   "source": [
    "# frame de início e final do movimento\n",
    "frame_start = start_end[0]\n",
    "frame_end = start_end[1]\n",
    "\n",
    "# converter o frame do vídeo do início do movimento para o dado de Mocap correspondente \n",
    "temp_start = frame_start / fps\n",
    "MOCAP_start = int(temp_start * freq_MoCap)\n",
    "\n",
    "# converter o frame do vídeo do final do movimento para o dado de Mocap correspondente \n",
    "temp_end = frame_end / fps\n",
    "MOCAP_end = int(temp_end * freq_MoCap)\n",
    "\n",
    "# criando os dados apenas com as informações \n",
    "data_gait = data_complete.iloc[MOCAP_start:MOCAP_end + 1,:]\n",
    "len(data_gait)\n",
    "data_gait"
   ]
  },
  {
   "cell_type": "code",
   "execution_count": 16,
   "metadata": {},
   "outputs": [],
   "source": [
    "np.save('MoCap CoM gait', data_gait)"
   ]
  }
 ],
 "metadata": {
  "kernelspec": {
   "display_name": "Python 3.10.6 64-bit",
   "language": "python",
   "name": "python3"
  },
  "language_info": {
   "codemirror_mode": {
    "name": "ipython",
    "version": 3
   },
   "file_extension": ".py",
   "mimetype": "text/x-python",
   "name": "python",
   "nbconvert_exporter": "python",
   "pygments_lexer": "ipython3",
   "version": "3.10.6"
  },
  "vscode": {
   "interpreter": {
    "hash": "253cd15c32ffb283b0558be93b097dc27093fe6b891853f454fa08d2f15e4a97"
   }
  }
 },
 "nbformat": 4,
 "nbformat_minor": 4
}
